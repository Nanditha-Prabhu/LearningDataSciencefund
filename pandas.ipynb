{
 "cells": [
  {
   "attachments": {},
   "cell_type": "markdown",
   "metadata": {},
   "source": [
    "PANDAS"
   ]
  },
  {
   "cell_type": "code",
   "execution_count": 6,
   "metadata": {},
   "outputs": [],
   "source": [
    "#import pandas\n",
    "import pandas as pd"
   ]
  },
  {
   "attachments": {},
   "cell_type": "markdown",
   "metadata": {},
   "source": [
    "Pandas Series"
   ]
  },
  {
   "cell_type": "code",
   "execution_count": 9,
   "metadata": {},
   "outputs": [
    {
     "data": {
      "text/plain": [
       "0     0\n",
       "1     5\n",
       "2    10\n",
       "3    15\n",
       "4    20\n",
       "5    25\n",
       "6    30\n",
       "dtype: int64"
      ]
     },
     "execution_count": 9,
     "metadata": {},
     "output_type": "execute_result"
    }
   ],
   "source": [
    "l = [x*5 for x in range(7)]\n",
    "#to convert it to series..\n",
    "ls = pd.Series(l)\n",
    "ls\n",
    "#outputs in form index and elements"
   ]
  },
  {
   "cell_type": "code",
   "execution_count": 11,
   "metadata": {},
   "outputs": [
    {
     "data": {
      "text/plain": [
       "m     0\n",
       "n     5\n",
       "p    10\n",
       "q    15\n",
       "a    20\n",
       "b    25\n",
       "c    30\n",
       "dtype: int64"
      ]
     },
     "execution_count": 11,
     "metadata": {},
     "output_type": "execute_result"
    }
   ],
   "source": [
    "#to change the indices..\n",
    "ls2 = pd.Series(l, index=['m', 'n', 'p', 'q', 'a', 'b', 'c'])\n",
    "ls2"
   ]
  },
  {
   "cell_type": "code",
   "execution_count": 13,
   "metadata": {},
   "outputs": [
    {
     "data": {
      "text/plain": [
       "b    25\n",
       "b    30\n",
       "dtype: int64"
      ]
     },
     "execution_count": 13,
     "metadata": {},
     "output_type": "execute_result"
    }
   ],
   "source": [
    "#we can even not give unique indices\n",
    "ls3 = pd.Series(l, index=['m', 'n', 'p', 'q', 'a', 'b', 'b'])\n",
    "ls3['b']"
   ]
  },
  {
   "cell_type": "code",
   "execution_count": 14,
   "metadata": {},
   "outputs": [
    {
     "data": {
      "text/plain": [
       "a    2\n",
       "b    5\n",
       "c    9\n",
       "m    7\n",
       "n    4\n",
       "dtype: int64"
      ]
     },
     "execution_count": 14,
     "metadata": {},
     "output_type": "execute_result"
    }
   ],
   "source": [
    "#we can even use dictionaries to create series data\n",
    "dictdata = {'a':2, 'b':5, 'c':9, 'm':7, 'n':4}\n",
    "ser_dict_data = pd.Series(dictdata)\n",
    "ser_dict_data"
   ]
  },
  {
   "cell_type": "code",
   "execution_count": 15,
   "metadata": {},
   "outputs": [
    {
     "data": {
      "text/plain": [
       "b    5\n",
       "m    7\n",
       "dtype: int64"
      ]
     },
     "execution_count": 15,
     "metadata": {},
     "output_type": "execute_result"
    }
   ],
   "source": [
    "#less considerables\n",
    "ser_dict_data2 = pd.Series(dictdata, index=['b', 'm'])\n",
    "ser_dict_data2"
   ]
  },
  {
   "cell_type": "code",
   "execution_count": 16,
   "metadata": {},
   "outputs": [
    {
     "data": {
      "text/plain": [
       "b    5.0\n",
       "m    7.0\n",
       "x    NaN\n",
       "dtype: float64"
      ]
     },
     "execution_count": 16,
     "metadata": {},
     "output_type": "execute_result"
    }
   ],
   "source": [
    "#use only valid indices\n",
    "ser_dict_data3 = pd.Series(dictdata, index=['b', 'm', 'x'])\n",
    "ser_dict_data3\n",
    "#observe the NaN value"
   ]
  },
  {
   "attachments": {},
   "cell_type": "markdown",
   "metadata": {},
   "source": [
    "As pandas uses numpy in the background the operations are very fast"
   ]
  },
  {
   "cell_type": "code",
   "execution_count": 18,
   "metadata": {},
   "outputs": [
    {
     "name": "stdout",
     "output_type": "stream",
     "text": [
      "20\n",
      "30\n"
     ]
    }
   ],
   "source": [
    "#to access element at nth position use iloc or iat method\n",
    "print(ls.iloc[4])\n",
    "print(ls.iat[6])"
   ]
  },
  {
   "cell_type": "code",
   "execution_count": 22,
   "metadata": {},
   "outputs": [
    {
     "name": "stdout",
     "output_type": "stream",
     "text": [
      "3    15\n",
      "4    20\n",
      "5    25\n",
      "6    30\n",
      "dtype: int64\n",
      "0     0\n",
      "1     5\n",
      "2    10\n",
      "3    15\n",
      "dtype: int64\n"
     ]
    }
   ],
   "source": [
    "#slicing is also similar\n",
    "print(ls[3:7])\n",
    "print(ls[-7:-3]) #order must always be lowerval:higherval"
   ]
  },
  {
   "cell_type": "code",
   "execution_count": 23,
   "metadata": {},
   "outputs": [
    {
     "data": {
      "text/plain": [
       "0     0.0\n",
       "1     NaN\n",
       "2     NaN\n",
       "3    15.0\n",
       "4     NaN\n",
       "5     NaN\n",
       "6    30.0\n",
       "dtype: float64"
      ]
     },
     "execution_count": 23,
     "metadata": {},
     "output_type": "execute_result"
    }
   ],
   "source": [
    "#using where method it returns value if condn is satisfied and null val if condn is not satisfied\n",
    "ls.where(ls%3 == 0)"
   ]
  },
  {
   "cell_type": "code",
   "execution_count": 24,
   "metadata": {},
   "outputs": [
    {
     "data": {
      "text/plain": [
       "0      0\n",
       "1    odd\n",
       "2     10\n",
       "3    odd\n",
       "4     20\n",
       "5    odd\n",
       "6     30\n",
       "dtype: object"
      ]
     },
     "execution_count": 24,
     "metadata": {},
     "output_type": "execute_result"
    }
   ],
   "source": [
    "#value can bee specified if the condition is false\n",
    "ls.where(ls%2 == 0, 'odd')"
   ]
  },
  {
   "cell_type": "code",
   "execution_count": 25,
   "metadata": {},
   "outputs": [
    {
     "data": {
      "text/plain": [
       "0        0\n",
       "1      125\n",
       "2       10\n",
       "3     3375\n",
       "4       20\n",
       "5    15625\n",
       "6       30\n",
       "dtype: int64"
      ]
     },
     "execution_count": 25,
     "metadata": {},
     "output_type": "execute_result"
    }
   ],
   "source": [
    "#we can even do arithmetic oprn on false statement\n",
    "ls.where(ls%2 == 0, ls**3)"
   ]
  },
  {
   "cell_type": "code",
   "execution_count": 26,
   "metadata": {},
   "outputs": [],
   "source": [
    "ls.where(ls%2 == 0, inplace=True)"
   ]
  },
  {
   "cell_type": "code",
   "execution_count": 27,
   "metadata": {},
   "outputs": [
    {
     "data": {
      "text/plain": [
       "0     0.0\n",
       "2    10.0\n",
       "4    20.0\n",
       "6    30.0\n",
       "dtype: float64"
      ]
     },
     "execution_count": 27,
     "metadata": {},
     "output_type": "execute_result"
    }
   ],
   "source": [
    "#Return a new Series with missing values removed.\n",
    "ls.dron()"
   ]
  },
  {
   "cell_type": "code",
   "execution_count": 28,
   "metadata": {},
   "outputs": [
    {
     "data": {
      "text/plain": [
       "0                   0.0\n",
       "1    this was NAN value\n",
       "2                  10.0\n",
       "3    this was NAN value\n",
       "4                  20.0\n",
       "5    this was NAN value\n",
       "6                  30.0\n",
       "dtype: object"
      ]
     },
     "execution_count": 28,
     "metadata": {},
     "output_type": "execute_result"
    }
   ],
   "source": [
    "#Fill NA/NaN values using the specified method.\n",
    "ls.fillna('this was NAN value')"
   ]
  },
  {
   "attachments": {},
   "cell_type": "markdown",
   "metadata": {},
   "source": [
    "Pandas Dataframe"
   ]
  },
  {
   "cell_type": "code",
   "execution_count": 29,
   "metadata": {},
   "outputs": [],
   "source": [
    "#create a dataframe\n",
    "df1 = pd.DataFrame()"
   ]
  },
  {
   "cell_type": "code",
   "execution_count": 30,
   "metadata": {},
   "outputs": [
    {
     "data": {
      "text/plain": [
       "pandas.core.frame.DataFrame"
      ]
     },
     "execution_count": 30,
     "metadata": {},
     "output_type": "execute_result"
    }
   ],
   "source": [
    "#check the type of data frame\n",
    "type(df1)"
   ]
  },
  {
   "cell_type": "code",
   "execution_count": 34,
   "metadata": {},
   "outputs": [],
   "source": [
    "#read csv file\n",
    "df1 = pd.read_csv('parks.csv')"
   ]
  },
  {
   "cell_type": "code",
   "execution_count": 35,
   "metadata": {},
   "outputs": [
    {
     "data": {
      "text/html": [
       "<div>\n",
       "<style scoped>\n",
       "    .dataframe tbody tr th:only-of-type {\n",
       "        vertical-align: middle;\n",
       "    }\n",
       "\n",
       "    .dataframe tbody tr th {\n",
       "        vertical-align: top;\n",
       "    }\n",
       "\n",
       "    .dataframe thead th {\n",
       "        text-align: right;\n",
       "    }\n",
       "</style>\n",
       "<table border=\"1\" class=\"dataframe\">\n",
       "  <thead>\n",
       "    <tr style=\"text-align: right;\">\n",
       "      <th></th>\n",
       "      <th>Park Code</th>\n",
       "      <th>Park Name</th>\n",
       "      <th>State</th>\n",
       "      <th>Acres</th>\n",
       "      <th>Latitude</th>\n",
       "      <th>Longitude</th>\n",
       "    </tr>\n",
       "  </thead>\n",
       "  <tbody>\n",
       "    <tr>\n",
       "      <th>0</th>\n",
       "      <td>ACAD</td>\n",
       "      <td>Acadia National Park</td>\n",
       "      <td>ME</td>\n",
       "      <td>47390</td>\n",
       "      <td>44.35</td>\n",
       "      <td>-68.21</td>\n",
       "    </tr>\n",
       "    <tr>\n",
       "      <th>1</th>\n",
       "      <td>ARCH</td>\n",
       "      <td>Arches National Park</td>\n",
       "      <td>UT</td>\n",
       "      <td>76519</td>\n",
       "      <td>38.68</td>\n",
       "      <td>-109.57</td>\n",
       "    </tr>\n",
       "    <tr>\n",
       "      <th>2</th>\n",
       "      <td>BADL</td>\n",
       "      <td>Badlands National Park</td>\n",
       "      <td>SD</td>\n",
       "      <td>242756</td>\n",
       "      <td>43.75</td>\n",
       "      <td>-102.50</td>\n",
       "    </tr>\n",
       "    <tr>\n",
       "      <th>3</th>\n",
       "      <td>BIBE</td>\n",
       "      <td>Big Bend National Park</td>\n",
       "      <td>TX</td>\n",
       "      <td>801163</td>\n",
       "      <td>29.25</td>\n",
       "      <td>-103.25</td>\n",
       "    </tr>\n",
       "    <tr>\n",
       "      <th>4</th>\n",
       "      <td>BISC</td>\n",
       "      <td>Biscayne National Park</td>\n",
       "      <td>FL</td>\n",
       "      <td>172924</td>\n",
       "      <td>25.65</td>\n",
       "      <td>-80.08</td>\n",
       "    </tr>\n",
       "  </tbody>\n",
       "</table>\n",
       "</div>"
      ],
      "text/plain": [
       "  Park Code               Park Name State   Acres  Latitude  Longitude\n",
       "0      ACAD    Acadia National Park    ME   47390     44.35     -68.21\n",
       "1      ARCH    Arches National Park    UT   76519     38.68    -109.57\n",
       "2      BADL  Badlands National Park    SD  242756     43.75    -102.50\n",
       "3      BIBE  Big Bend National Park    TX  801163     29.25    -103.25\n",
       "4      BISC  Biscayne National Park    FL  172924     25.65     -80.08"
      ]
     },
     "execution_count": 35,
     "metadata": {},
     "output_type": "execute_result"
    }
   ],
   "source": [
    "#outputs first 5 lines by default\n",
    "df1.head()\n",
    "#similarly tail returns last 5 lines by default"
   ]
  },
  {
   "cell_type": "code",
   "execution_count": 36,
   "metadata": {},
   "outputs": [
    {
     "data": {
      "text/html": [
       "<div>\n",
       "<style scoped>\n",
       "    .dataframe tbody tr th:only-of-type {\n",
       "        vertical-align: middle;\n",
       "    }\n",
       "\n",
       "    .dataframe tbody tr th {\n",
       "        vertical-align: top;\n",
       "    }\n",
       "\n",
       "    .dataframe thead th {\n",
       "        text-align: right;\n",
       "    }\n",
       "</style>\n",
       "<table border=\"1\" class=\"dataframe\">\n",
       "  <thead>\n",
       "    <tr style=\"text-align: right;\">\n",
       "      <th></th>\n",
       "      <th>Park Code</th>\n",
       "      <th>Park Name</th>\n",
       "      <th>State</th>\n",
       "      <th>Acres</th>\n",
       "      <th>Latitude</th>\n",
       "      <th>Longitude</th>\n",
       "    </tr>\n",
       "  </thead>\n",
       "  <tbody>\n",
       "    <tr>\n",
       "      <th>0</th>\n",
       "      <td>ACAD</td>\n",
       "      <td>Acadia National Park</td>\n",
       "      <td>ME</td>\n",
       "      <td>47390</td>\n",
       "      <td>44.35</td>\n",
       "      <td>-68.21</td>\n",
       "    </tr>\n",
       "    <tr>\n",
       "      <th>1</th>\n",
       "      <td>ARCH</td>\n",
       "      <td>Arches National Park</td>\n",
       "      <td>UT</td>\n",
       "      <td>76519</td>\n",
       "      <td>38.68</td>\n",
       "      <td>-109.57</td>\n",
       "    </tr>\n",
       "    <tr>\n",
       "      <th>2</th>\n",
       "      <td>BADL</td>\n",
       "      <td>Badlands National Park</td>\n",
       "      <td>SD</td>\n",
       "      <td>242756</td>\n",
       "      <td>43.75</td>\n",
       "      <td>-102.50</td>\n",
       "    </tr>\n",
       "    <tr>\n",
       "      <th>3</th>\n",
       "      <td>BIBE</td>\n",
       "      <td>Big Bend National Park</td>\n",
       "      <td>TX</td>\n",
       "      <td>801163</td>\n",
       "      <td>29.25</td>\n",
       "      <td>-103.25</td>\n",
       "    </tr>\n",
       "    <tr>\n",
       "      <th>4</th>\n",
       "      <td>BISC</td>\n",
       "      <td>Biscayne National Park</td>\n",
       "      <td>FL</td>\n",
       "      <td>172924</td>\n",
       "      <td>25.65</td>\n",
       "      <td>-80.08</td>\n",
       "    </tr>\n",
       "    <tr>\n",
       "      <th>5</th>\n",
       "      <td>BLCA</td>\n",
       "      <td>Black Canyon of the Gunnison National Park</td>\n",
       "      <td>CO</td>\n",
       "      <td>32950</td>\n",
       "      <td>38.57</td>\n",
       "      <td>-107.72</td>\n",
       "    </tr>\n",
       "    <tr>\n",
       "      <th>6</th>\n",
       "      <td>BRCA</td>\n",
       "      <td>Bryce Canyon National Park</td>\n",
       "      <td>UT</td>\n",
       "      <td>35835</td>\n",
       "      <td>37.57</td>\n",
       "      <td>-112.18</td>\n",
       "    </tr>\n",
       "  </tbody>\n",
       "</table>\n",
       "</div>"
      ],
      "text/plain": [
       "  Park Code                                   Park Name State   Acres   \n",
       "0      ACAD                        Acadia National Park    ME   47390  \\\n",
       "1      ARCH                        Arches National Park    UT   76519   \n",
       "2      BADL                      Badlands National Park    SD  242756   \n",
       "3      BIBE                      Big Bend National Park    TX  801163   \n",
       "4      BISC                      Biscayne National Park    FL  172924   \n",
       "5      BLCA  Black Canyon of the Gunnison National Park    CO   32950   \n",
       "6      BRCA                  Bryce Canyon National Park    UT   35835   \n",
       "\n",
       "   Latitude  Longitude  \n",
       "0     44.35     -68.21  \n",
       "1     38.68    -109.57  \n",
       "2     43.75    -102.50  \n",
       "3     29.25    -103.25  \n",
       "4     25.65     -80.08  \n",
       "5     38.57    -107.72  \n",
       "6     37.57    -112.18  "
      ]
     },
     "execution_count": 36,
     "metadata": {},
     "output_type": "execute_result"
    }
   ],
   "source": [
    "#outputs specified lines\n",
    "df1.head(7)\n",
    "#similarly tail returns last few lines as specified"
   ]
  },
  {
   "cell_type": "code",
   "execution_count": 37,
   "metadata": {},
   "outputs": [
    {
     "data": {
      "text/plain": [
       "Park Code                      BIBE\n",
       "Park Name    Big Bend National Park\n",
       "State                            TX\n",
       "Acres                        801163\n",
       "Latitude                      29.25\n",
       "Longitude                   -103.25\n",
       "Name: 3, dtype: object"
      ]
     },
     "execution_count": 37,
     "metadata": {},
     "output_type": "execute_result"
    }
   ],
   "source": [
    "df1.iloc[3]"
   ]
  },
  {
   "cell_type": "code",
   "execution_count": 39,
   "metadata": {},
   "outputs": [
    {
     "data": {
      "text/plain": [
       "array([['ACAD', 'Acadia National Park', 'ME', 47390, 44.35, -68.21],\n",
       "       ['ARCH', 'Arches National Park', 'UT', 76519, 38.68, -109.57],\n",
       "       ['BADL', 'Badlands National Park', 'SD', 242756, 43.75, -102.5],\n",
       "       ['BIBE', 'Big Bend National Park', 'TX', 801163, 29.25, -103.25],\n",
       "       ['BISC', 'Biscayne National Park', 'FL', 172924, 25.65, -80.08],\n",
       "       ['BLCA', 'Black Canyon of the Gunnison National Park', 'CO',\n",
       "        32950, 38.57, -107.72],\n",
       "       ['BRCA', 'Bryce Canyon National Park', 'UT', 35835, 37.57,\n",
       "        -112.18],\n",
       "       ['CANY', 'Canyonlands National Park', 'UT', 337598, 38.2, -109.93],\n",
       "       ['CARE', 'Capitol Reef National Park', 'UT', 241904, 38.2,\n",
       "        -111.17],\n",
       "       ['CAVE', 'Carlsbad Caverns National Park', 'NM', 46766, 32.17,\n",
       "        -104.44],\n",
       "       ['CHIS', 'Channel Islands National Park', 'CA', 249561, 34.01,\n",
       "        -119.42],\n",
       "       ['CONG', 'Congaree National Park', 'SC', 26546, 33.78, -80.78],\n",
       "       ['CRLA', 'Crater Lake National Park', 'OR', 183224, 42.94, -122.1],\n",
       "       ['CUVA', 'Cuyahoga Valley National Park', 'OH', 32950, 41.24,\n",
       "        -81.55],\n",
       "       ['DENA', 'Denali National Park and Preserve', 'AK', 3372402,\n",
       "        63.33, -150.5],\n",
       "       ['DEVA', 'Death Valley National Park', 'CA, NV', 4740912, 36.24,\n",
       "        -116.82],\n",
       "       ['DRTO', 'Dry Tortugas National Park', 'FL', 64701, 24.63, -82.87],\n",
       "       ['EVER', 'Everglades National Park', 'FL', 1508538, 25.32, -80.93],\n",
       "       ['GAAR', 'Gates Of The Arctic National Park and Preserve', 'AK',\n",
       "        7523898, 67.78, -153.3],\n",
       "       ['GLAC', 'Glacier National Park', 'MT', 1013572, 48.8, -114.0],\n",
       "       ['GLBA', 'Glacier Bay National Park and Preserve', 'AK', 3224840,\n",
       "        58.5, -137.0],\n",
       "       ['GRBA', 'Great Basin National Park', 'NV', 77180, 38.98, -114.3],\n",
       "       ['GRCA', 'Grand Canyon National Park', 'AZ', 1217403, 36.06,\n",
       "        -112.14],\n",
       "       ['GRSA', 'Great Sand Dunes National Park and Preserve', 'CO',\n",
       "        42984, 37.73, -105.51],\n",
       "       ['GRSM', 'Great Smoky Mountains National Park', 'TN, NC', 521490,\n",
       "        35.68, -83.53],\n",
       "       ['GRTE', 'Grand Teton National Park', 'WY', 309995, 43.73, -110.8],\n",
       "       ['GUMO', 'Guadalupe Mountains National Park', 'TX', 86416, 31.92,\n",
       "        -104.87],\n",
       "       ['HALE', 'Haleakala National Park', 'HI', 29094, 20.72, -156.17],\n",
       "       ['HAVO', 'Hawaii Volcanoes National Park', 'HI', 323431, 19.38,\n",
       "        -155.2],\n",
       "       ['HOSP', 'Hot Springs National Park', 'AR', 5550, 34.51, -93.05],\n",
       "       ['ISRO', 'Isle Royale National Park', 'MI', 571790, 48.1, -88.55],\n",
       "       ['JOTR', 'Joshua Tree National Park', 'CA', 789745, 33.79, -115.9],\n",
       "       ['KATM', 'Katmai National Park and Preserve', 'AK', 3674530, 58.5,\n",
       "        -155.0],\n",
       "       ['KEFJ', 'Kenai Fjords National Park', 'AK', 669983, 59.92,\n",
       "        -149.65],\n",
       "       ['KOVA', 'Kobuk Valley National Park', 'AK', 1750717, 67.55,\n",
       "        -159.28],\n",
       "       ['LACL', 'Lake Clark National Park and Preserve', 'AK', 2619733,\n",
       "        60.97, -153.42],\n",
       "       ['LAVO', 'Lassen Volcanic National Park', 'CA', 106372, 40.49,\n",
       "        -121.51],\n",
       "       ['MACA', 'Mammoth Cave National Park', 'KY', 52830, 37.18, -86.1],\n",
       "       ['MEVE', 'Mesa Verde National Park', 'CO', 52122, 37.18, -108.49],\n",
       "       ['MORA', 'Mount Rainier National Park', 'WA', 235625, 46.85,\n",
       "        -121.75],\n",
       "       ['NOCA', 'North Cascades National Park', 'WA', 504781, 48.7,\n",
       "        -121.2],\n",
       "       ['OLYM', 'Olympic National Park', 'WA', 922651, 47.97, -123.5],\n",
       "       ['PEFO', 'Petrified Forest National Park', 'AZ', 93533, 35.07,\n",
       "        -109.78],\n",
       "       ['PINN', 'Pinnacles National Park', 'CA', 26606, 36.48, -121.16],\n",
       "       ['REDW', 'Redwood National Park', 'CA', 112512, 41.3, -124.0],\n",
       "       ['ROMO', 'Rocky Mountain National Park', 'CO', 265828, 40.4,\n",
       "        -105.58],\n",
       "       ['SAGU', 'Saguaro National Park', 'AZ', 91440, 32.25, -110.5],\n",
       "       ['SEKI', 'Sequoia and Kings Canyon National Parks', 'CA', 865952,\n",
       "        36.43, -118.68],\n",
       "       ['SHEN', 'Shenandoah National Park', 'VA', 199045, 38.53, -78.35],\n",
       "       ['THRO', 'Theodore Roosevelt National Park', 'ND', 70447, 46.97,\n",
       "        -103.45],\n",
       "       ['VOYA', 'Voyageurs National Park', 'MN', 218200, 48.5, -92.88],\n",
       "       ['WICA', 'Wind Cave National Park', 'SD', 28295, 43.57, -103.48],\n",
       "       ['WRST', 'Wrangell - St Elias National Park and Preserve', 'AK',\n",
       "        8323148, 61.0, -142.0],\n",
       "       ['YELL', 'Yellowstone National Park', 'WY, MT, ID', 2219791, 44.6,\n",
       "        -110.5],\n",
       "       ['YOSE', 'Yosemite National Park', 'CA', 761266, 37.83, -119.5],\n",
       "       ['ZION', 'Zion National Park', 'UT', 146598, 37.3, -113.05]],\n",
       "      dtype=object)"
      ]
     },
     "execution_count": 39,
     "metadata": {},
     "output_type": "execute_result"
    }
   ],
   "source": [
    "#outputs rows as arrays\n",
    "df1.values"
   ]
  },
  {
   "cell_type": "code",
   "execution_count": 40,
   "metadata": {},
   "outputs": [],
   "source": [
    "#if the file size is very large...it outputs file in chunks and retuens an iterable\n",
    "df1 = pd.read_csv('parks.csv', chunksize=5)"
   ]
  },
  {
   "cell_type": "code",
   "execution_count": 47,
   "metadata": {},
   "outputs": [],
   "source": [
    "for chunk in df1:\n",
    "    if chunk['Acres'>45000]:\n",
    "        print(chunk)"
   ]
  },
  {
   "cell_type": "code",
   "execution_count": 48,
   "metadata": {},
   "outputs": [
    {
     "ename": "AttributeError",
     "evalue": "'TextFileReader' object has no attribute 'loc'",
     "output_type": "error",
     "traceback": [
      "\u001b[1;31m---------------------------------------------------------------------------\u001b[0m",
      "\u001b[1;31mAttributeError\u001b[0m                            Traceback (most recent call last)",
      "Cell \u001b[1;32mIn[48], line 1\u001b[0m\n\u001b[1;32m----> 1\u001b[0m df2 \u001b[39m=\u001b[39m df1[df1\u001b[39m.\u001b[39;49mloc[\u001b[39m'\u001b[39m\u001b[39mAcres\u001b[39m\u001b[39m'\u001b[39m]\u001b[39m>\u001b[39m\u001b[39m45000\u001b[39m]\n",
      "\u001b[1;31mAttributeError\u001b[0m: 'TextFileReader' object has no attribute 'loc'"
     ]
    }
   ],
   "source": [
    "df2 = df1[df1.loc['Acres']>45000]"
   ]
  },
  {
   "cell_type": "code",
   "execution_count": null,
   "metadata": {},
   "outputs": [],
   "source": []
  }
 ],
 "metadata": {
  "kernelspec": {
   "display_name": "Python 3",
   "language": "python",
   "name": "python3"
  },
  "language_info": {
   "codemirror_mode": {
    "name": "ipython",
    "version": 3
   },
   "file_extension": ".py",
   "mimetype": "text/x-python",
   "name": "python",
   "nbconvert_exporter": "python",
   "pygments_lexer": "ipython3",
   "version": "3.11.2"
  },
  "orig_nbformat": 4
 },
 "nbformat": 4,
 "nbformat_minor": 2
}
