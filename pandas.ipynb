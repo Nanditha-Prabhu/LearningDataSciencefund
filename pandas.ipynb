{
 "cells": [
  {
   "attachments": {},
   "cell_type": "markdown",
   "metadata": {},
   "source": [
    "PANDAS"
   ]
  },
  {
   "cell_type": "code",
   "execution_count": 15,
   "metadata": {},
   "outputs": [],
   "source": [
    "#import pandas\n",
    "import pandas as pd"
   ]
  },
  {
   "attachments": {},
   "cell_type": "markdown",
   "metadata": {},
   "source": [
    "Pandas Series"
   ]
  },
  {
   "cell_type": "code",
   "execution_count": 9,
   "metadata": {},
   "outputs": [
    {
     "data": {
      "text/plain": [
       "0     0\n",
       "1     5\n",
       "2    10\n",
       "3    15\n",
       "4    20\n",
       "5    25\n",
       "6    30\n",
       "dtype: int64"
      ]
     },
     "execution_count": 9,
     "metadata": {},
     "output_type": "execute_result"
    }
   ],
   "source": [
    "l = [x*5 for x in range(7)]\n",
    "#to convert it to series..\n",
    "ls = pd.Series(l)\n",
    "ls\n",
    "#outputs in form index and elements"
   ]
  },
  {
   "cell_type": "code",
   "execution_count": 11,
   "metadata": {},
   "outputs": [
    {
     "data": {
      "text/plain": [
       "m     0\n",
       "n     5\n",
       "p    10\n",
       "q    15\n",
       "a    20\n",
       "b    25\n",
       "c    30\n",
       "dtype: int64"
      ]
     },
     "execution_count": 11,
     "metadata": {},
     "output_type": "execute_result"
    }
   ],
   "source": [
    "#to change the indices..\n",
    "ls2 = pd.Series(l, index=['m', 'n', 'p', 'q', 'a', 'b', 'c'])\n",
    "ls2"
   ]
  },
  {
   "cell_type": "code",
   "execution_count": 13,
   "metadata": {},
   "outputs": [
    {
     "data": {
      "text/plain": [
       "b    25\n",
       "b    30\n",
       "dtype: int64"
      ]
     },
     "execution_count": 13,
     "metadata": {},
     "output_type": "execute_result"
    }
   ],
   "source": [
    "#we can even not give unique indices\n",
    "ls3 = pd.Series(l, index=['m', 'n', 'p', 'q', 'a', 'b', 'b'])\n",
    "ls3['b']"
   ]
  },
  {
   "cell_type": "code",
   "execution_count": 14,
   "metadata": {},
   "outputs": [
    {
     "data": {
      "text/plain": [
       "a    2\n",
       "b    5\n",
       "c    9\n",
       "m    7\n",
       "n    4\n",
       "dtype: int64"
      ]
     },
     "execution_count": 14,
     "metadata": {},
     "output_type": "execute_result"
    }
   ],
   "source": [
    "#we can even use dictionaries to create series data\n",
    "dictdata = {'a':2, 'b':5, 'c':9, 'm':7, 'n':4}\n",
    "ser_dict_data = pd.Series(dictdata)\n",
    "ser_dict_data"
   ]
  },
  {
   "cell_type": "code",
   "execution_count": 15,
   "metadata": {},
   "outputs": [
    {
     "data": {
      "text/plain": [
       "b    5\n",
       "m    7\n",
       "dtype: int64"
      ]
     },
     "execution_count": 15,
     "metadata": {},
     "output_type": "execute_result"
    }
   ],
   "source": [
    "#less considerables\n",
    "ser_dict_data2 = pd.Series(dictdata, index=['b', 'm'])\n",
    "ser_dict_data2"
   ]
  },
  {
   "cell_type": "code",
   "execution_count": 16,
   "metadata": {},
   "outputs": [
    {
     "data": {
      "text/plain": [
       "b    5.0\n",
       "m    7.0\n",
       "x    NaN\n",
       "dtype: float64"
      ]
     },
     "execution_count": 16,
     "metadata": {},
     "output_type": "execute_result"
    }
   ],
   "source": [
    "#use only valid indices\n",
    "ser_dict_data3 = pd.Series(dictdata, index=['b', 'm', 'x'])\n",
    "ser_dict_data3\n",
    "#observe the NaN value"
   ]
  },
  {
   "attachments": {},
   "cell_type": "markdown",
   "metadata": {},
   "source": [
    "As pandas uses numpy in the background the operations are very fast"
   ]
  },
  {
   "cell_type": "code",
   "execution_count": 18,
   "metadata": {},
   "outputs": [
    {
     "name": "stdout",
     "output_type": "stream",
     "text": [
      "20\n",
      "30\n"
     ]
    }
   ],
   "source": [
    "#to access element at nth position use iloc or iat method\n",
    "print(ls.iloc[4])\n",
    "print(ls.iat[6])"
   ]
  },
  {
   "cell_type": "code",
   "execution_count": 22,
   "metadata": {},
   "outputs": [
    {
     "name": "stdout",
     "output_type": "stream",
     "text": [
      "3    15\n",
      "4    20\n",
      "5    25\n",
      "6    30\n",
      "dtype: int64\n",
      "0     0\n",
      "1     5\n",
      "2    10\n",
      "3    15\n",
      "dtype: int64\n"
     ]
    }
   ],
   "source": [
    "#slicing is also similar\n",
    "print(ls[3:7])\n",
    "print(ls[-7:-3]) #order must always be lowerval:higherval"
   ]
  },
  {
   "cell_type": "code",
   "execution_count": 23,
   "metadata": {},
   "outputs": [
    {
     "data": {
      "text/plain": [
       "0     0.0\n",
       "1     NaN\n",
       "2     NaN\n",
       "3    15.0\n",
       "4     NaN\n",
       "5     NaN\n",
       "6    30.0\n",
       "dtype: float64"
      ]
     },
     "execution_count": 23,
     "metadata": {},
     "output_type": "execute_result"
    }
   ],
   "source": [
    "#using where method it returns value if condn is satisfied and null val if condn is not satisfied\n",
    "ls.where(ls%3 == 0)"
   ]
  },
  {
   "cell_type": "code",
   "execution_count": 24,
   "metadata": {},
   "outputs": [
    {
     "data": {
      "text/plain": [
       "0      0\n",
       "1    odd\n",
       "2     10\n",
       "3    odd\n",
       "4     20\n",
       "5    odd\n",
       "6     30\n",
       "dtype: object"
      ]
     },
     "execution_count": 24,
     "metadata": {},
     "output_type": "execute_result"
    }
   ],
   "source": [
    "#value can bee specified if the condition is false\n",
    "ls.where(ls%2 == 0, 'odd')"
   ]
  },
  {
   "cell_type": "code",
   "execution_count": 25,
   "metadata": {},
   "outputs": [
    {
     "data": {
      "text/plain": [
       "0        0\n",
       "1      125\n",
       "2       10\n",
       "3     3375\n",
       "4       20\n",
       "5    15625\n",
       "6       30\n",
       "dtype: int64"
      ]
     },
     "execution_count": 25,
     "metadata": {},
     "output_type": "execute_result"
    }
   ],
   "source": [
    "#we can even do arithmetic oprn on false statement\n",
    "ls.where(ls%2 == 0, ls**3)"
   ]
  },
  {
   "cell_type": "code",
   "execution_count": 26,
   "metadata": {},
   "outputs": [],
   "source": [
    "ls.where(ls%2 == 0, inplace=True)"
   ]
  },
  {
   "cell_type": "code",
   "execution_count": 27,
   "metadata": {},
   "outputs": [
    {
     "data": {
      "text/plain": [
       "0     0.0\n",
       "2    10.0\n",
       "4    20.0\n",
       "6    30.0\n",
       "dtype: float64"
      ]
     },
     "execution_count": 27,
     "metadata": {},
     "output_type": "execute_result"
    }
   ],
   "source": [
    "#Return a new Series with missing values removed.\n",
    "ls.dron()"
   ]
  },
  {
   "cell_type": "code",
   "execution_count": 28,
   "metadata": {},
   "outputs": [
    {
     "data": {
      "text/plain": [
       "0                   0.0\n",
       "1    this was NAN value\n",
       "2                  10.0\n",
       "3    this was NAN value\n",
       "4                  20.0\n",
       "5    this was NAN value\n",
       "6                  30.0\n",
       "dtype: object"
      ]
     },
     "execution_count": 28,
     "metadata": {},
     "output_type": "execute_result"
    }
   ],
   "source": [
    "#Fill NA/NaN values using the specified method.\n",
    "ls.fillna('this was NAN value')"
   ]
  },
  {
   "attachments": {},
   "cell_type": "markdown",
   "metadata": {},
   "source": [
    "Pandas Dataframe"
   ]
  },
  {
   "cell_type": "code",
   "execution_count": 29,
   "metadata": {},
   "outputs": [],
   "source": [
    "#create a dataframe\n",
    "df1 = pd.DataFrame()"
   ]
  },
  {
   "cell_type": "code",
   "execution_count": 30,
   "metadata": {},
   "outputs": [
    {
     "data": {
      "text/plain": [
       "pandas.core.frame.DataFrame"
      ]
     },
     "execution_count": 30,
     "metadata": {},
     "output_type": "execute_result"
    }
   ],
   "source": [
    "#check the type of data frame\n",
    "type(df1)"
   ]
  },
  {
   "cell_type": "code",
   "execution_count": 34,
   "metadata": {},
   "outputs": [],
   "source": [
    "#read csv file\n",
    "df1 = pd.read_csv('parks.csv')"
   ]
  },
  {
   "cell_type": "code",
   "execution_count": 35,
   "metadata": {},
   "outputs": [
    {
     "data": {
      "text/html": [
       "<div>\n",
       "<style scoped>\n",
       "    .dataframe tbody tr th:only-of-type {\n",
       "        vertical-align: middle;\n",
       "    }\n",
       "\n",
       "    .dataframe tbody tr th {\n",
       "        vertical-align: top;\n",
       "    }\n",
       "\n",
       "    .dataframe thead th {\n",
       "        text-align: right;\n",
       "    }\n",
       "</style>\n",
       "<table border=\"1\" class=\"dataframe\">\n",
       "  <thead>\n",
       "    <tr style=\"text-align: right;\">\n",
       "      <th></th>\n",
       "      <th>Park Code</th>\n",
       "      <th>Park Name</th>\n",
       "      <th>State</th>\n",
       "      <th>Acres</th>\n",
       "      <th>Latitude</th>\n",
       "      <th>Longitude</th>\n",
       "    </tr>\n",
       "  </thead>\n",
       "  <tbody>\n",
       "    <tr>\n",
       "      <th>0</th>\n",
       "      <td>ACAD</td>\n",
       "      <td>Acadia National Park</td>\n",
       "      <td>ME</td>\n",
       "      <td>47390</td>\n",
       "      <td>44.35</td>\n",
       "      <td>-68.21</td>\n",
       "    </tr>\n",
       "    <tr>\n",
       "      <th>1</th>\n",
       "      <td>ARCH</td>\n",
       "      <td>Arches National Park</td>\n",
       "      <td>UT</td>\n",
       "      <td>76519</td>\n",
       "      <td>38.68</td>\n",
       "      <td>-109.57</td>\n",
       "    </tr>\n",
       "    <tr>\n",
       "      <th>2</th>\n",
       "      <td>BADL</td>\n",
       "      <td>Badlands National Park</td>\n",
       "      <td>SD</td>\n",
       "      <td>242756</td>\n",
       "      <td>43.75</td>\n",
       "      <td>-102.50</td>\n",
       "    </tr>\n",
       "    <tr>\n",
       "      <th>3</th>\n",
       "      <td>BIBE</td>\n",
       "      <td>Big Bend National Park</td>\n",
       "      <td>TX</td>\n",
       "      <td>801163</td>\n",
       "      <td>29.25</td>\n",
       "      <td>-103.25</td>\n",
       "    </tr>\n",
       "    <tr>\n",
       "      <th>4</th>\n",
       "      <td>BISC</td>\n",
       "      <td>Biscayne National Park</td>\n",
       "      <td>FL</td>\n",
       "      <td>172924</td>\n",
       "      <td>25.65</td>\n",
       "      <td>-80.08</td>\n",
       "    </tr>\n",
       "  </tbody>\n",
       "</table>\n",
       "</div>"
      ],
      "text/plain": [
       "  Park Code               Park Name State   Acres  Latitude  Longitude\n",
       "0      ACAD    Acadia National Park    ME   47390     44.35     -68.21\n",
       "1      ARCH    Arches National Park    UT   76519     38.68    -109.57\n",
       "2      BADL  Badlands National Park    SD  242756     43.75    -102.50\n",
       "3      BIBE  Big Bend National Park    TX  801163     29.25    -103.25\n",
       "4      BISC  Biscayne National Park    FL  172924     25.65     -80.08"
      ]
     },
     "execution_count": 35,
     "metadata": {},
     "output_type": "execute_result"
    }
   ],
   "source": [
    "#outputs first 5 lines by default\n",
    "df1.head()\n",
    "#similarly tail returns last 5 lines by default"
   ]
  },
  {
   "cell_type": "code",
   "execution_count": 36,
   "metadata": {},
   "outputs": [
    {
     "data": {
      "text/html": [
       "<div>\n",
       "<style scoped>\n",
       "    .dataframe tbody tr th:only-of-type {\n",
       "        vertical-align: middle;\n",
       "    }\n",
       "\n",
       "    .dataframe tbody tr th {\n",
       "        vertical-align: top;\n",
       "    }\n",
       "\n",
       "    .dataframe thead th {\n",
       "        text-align: right;\n",
       "    }\n",
       "</style>\n",
       "<table border=\"1\" class=\"dataframe\">\n",
       "  <thead>\n",
       "    <tr style=\"text-align: right;\">\n",
       "      <th></th>\n",
       "      <th>Park Code</th>\n",
       "      <th>Park Name</th>\n",
       "      <th>State</th>\n",
       "      <th>Acres</th>\n",
       "      <th>Latitude</th>\n",
       "      <th>Longitude</th>\n",
       "    </tr>\n",
       "  </thead>\n",
       "  <tbody>\n",
       "    <tr>\n",
       "      <th>0</th>\n",
       "      <td>ACAD</td>\n",
       "      <td>Acadia National Park</td>\n",
       "      <td>ME</td>\n",
       "      <td>47390</td>\n",
       "      <td>44.35</td>\n",
       "      <td>-68.21</td>\n",
       "    </tr>\n",
       "    <tr>\n",
       "      <th>1</th>\n",
       "      <td>ARCH</td>\n",
       "      <td>Arches National Park</td>\n",
       "      <td>UT</td>\n",
       "      <td>76519</td>\n",
       "      <td>38.68</td>\n",
       "      <td>-109.57</td>\n",
       "    </tr>\n",
       "    <tr>\n",
       "      <th>2</th>\n",
       "      <td>BADL</td>\n",
       "      <td>Badlands National Park</td>\n",
       "      <td>SD</td>\n",
       "      <td>242756</td>\n",
       "      <td>43.75</td>\n",
       "      <td>-102.50</td>\n",
       "    </tr>\n",
       "    <tr>\n",
       "      <th>3</th>\n",
       "      <td>BIBE</td>\n",
       "      <td>Big Bend National Park</td>\n",
       "      <td>TX</td>\n",
       "      <td>801163</td>\n",
       "      <td>29.25</td>\n",
       "      <td>-103.25</td>\n",
       "    </tr>\n",
       "    <tr>\n",
       "      <th>4</th>\n",
       "      <td>BISC</td>\n",
       "      <td>Biscayne National Park</td>\n",
       "      <td>FL</td>\n",
       "      <td>172924</td>\n",
       "      <td>25.65</td>\n",
       "      <td>-80.08</td>\n",
       "    </tr>\n",
       "    <tr>\n",
       "      <th>5</th>\n",
       "      <td>BLCA</td>\n",
       "      <td>Black Canyon of the Gunnison National Park</td>\n",
       "      <td>CO</td>\n",
       "      <td>32950</td>\n",
       "      <td>38.57</td>\n",
       "      <td>-107.72</td>\n",
       "    </tr>\n",
       "    <tr>\n",
       "      <th>6</th>\n",
       "      <td>BRCA</td>\n",
       "      <td>Bryce Canyon National Park</td>\n",
       "      <td>UT</td>\n",
       "      <td>35835</td>\n",
       "      <td>37.57</td>\n",
       "      <td>-112.18</td>\n",
       "    </tr>\n",
       "  </tbody>\n",
       "</table>\n",
       "</div>"
      ],
      "text/plain": [
       "  Park Code                                   Park Name State   Acres   \n",
       "0      ACAD                        Acadia National Park    ME   47390  \\\n",
       "1      ARCH                        Arches National Park    UT   76519   \n",
       "2      BADL                      Badlands National Park    SD  242756   \n",
       "3      BIBE                      Big Bend National Park    TX  801163   \n",
       "4      BISC                      Biscayne National Park    FL  172924   \n",
       "5      BLCA  Black Canyon of the Gunnison National Park    CO   32950   \n",
       "6      BRCA                  Bryce Canyon National Park    UT   35835   \n",
       "\n",
       "   Latitude  Longitude  \n",
       "0     44.35     -68.21  \n",
       "1     38.68    -109.57  \n",
       "2     43.75    -102.50  \n",
       "3     29.25    -103.25  \n",
       "4     25.65     -80.08  \n",
       "5     38.57    -107.72  \n",
       "6     37.57    -112.18  "
      ]
     },
     "execution_count": 36,
     "metadata": {},
     "output_type": "execute_result"
    }
   ],
   "source": [
    "#outputs specified lines\n",
    "df1.head(7)\n",
    "#similarly tail returns last few lines as specified"
   ]
  },
  {
   "cell_type": "code",
   "execution_count": 37,
   "metadata": {},
   "outputs": [
    {
     "data": {
      "text/plain": [
       "Park Code                      BIBE\n",
       "Park Name    Big Bend National Park\n",
       "State                            TX\n",
       "Acres                        801163\n",
       "Latitude                      29.25\n",
       "Longitude                   -103.25\n",
       "Name: 3, dtype: object"
      ]
     },
     "execution_count": 37,
     "metadata": {},
     "output_type": "execute_result"
    }
   ],
   "source": [
    "df1.iloc[3]"
   ]
  },
  {
   "cell_type": "code",
   "execution_count": 39,
   "metadata": {},
   "outputs": [
    {
     "data": {
      "text/plain": [
       "array([['ACAD', 'Acadia National Park', 'ME', 47390, 44.35, -68.21],\n",
       "       ['ARCH', 'Arches National Park', 'UT', 76519, 38.68, -109.57],\n",
       "       ['BADL', 'Badlands National Park', 'SD', 242756, 43.75, -102.5],\n",
       "       ['BIBE', 'Big Bend National Park', 'TX', 801163, 29.25, -103.25],\n",
       "       ['BISC', 'Biscayne National Park', 'FL', 172924, 25.65, -80.08],\n",
       "       ['BLCA', 'Black Canyon of the Gunnison National Park', 'CO',\n",
       "        32950, 38.57, -107.72],\n",
       "       ['BRCA', 'Bryce Canyon National Park', 'UT', 35835, 37.57,\n",
       "        -112.18],\n",
       "       ['CANY', 'Canyonlands National Park', 'UT', 337598, 38.2, -109.93],\n",
       "       ['CARE', 'Capitol Reef National Park', 'UT', 241904, 38.2,\n",
       "        -111.17],\n",
       "       ['CAVE', 'Carlsbad Caverns National Park', 'NM', 46766, 32.17,\n",
       "        -104.44],\n",
       "       ['CHIS', 'Channel Islands National Park', 'CA', 249561, 34.01,\n",
       "        -119.42],\n",
       "       ['CONG', 'Congaree National Park', 'SC', 26546, 33.78, -80.78],\n",
       "       ['CRLA', 'Crater Lake National Park', 'OR', 183224, 42.94, -122.1],\n",
       "       ['CUVA', 'Cuyahoga Valley National Park', 'OH', 32950, 41.24,\n",
       "        -81.55],\n",
       "       ['DENA', 'Denali National Park and Preserve', 'AK', 3372402,\n",
       "        63.33, -150.5],\n",
       "       ['DEVA', 'Death Valley National Park', 'CA, NV', 4740912, 36.24,\n",
       "        -116.82],\n",
       "       ['DRTO', 'Dry Tortugas National Park', 'FL', 64701, 24.63, -82.87],\n",
       "       ['EVER', 'Everglades National Park', 'FL', 1508538, 25.32, -80.93],\n",
       "       ['GAAR', 'Gates Of The Arctic National Park and Preserve', 'AK',\n",
       "        7523898, 67.78, -153.3],\n",
       "       ['GLAC', 'Glacier National Park', 'MT', 1013572, 48.8, -114.0],\n",
       "       ['GLBA', 'Glacier Bay National Park and Preserve', 'AK', 3224840,\n",
       "        58.5, -137.0],\n",
       "       ['GRBA', 'Great Basin National Park', 'NV', 77180, 38.98, -114.3],\n",
       "       ['GRCA', 'Grand Canyon National Park', 'AZ', 1217403, 36.06,\n",
       "        -112.14],\n",
       "       ['GRSA', 'Great Sand Dunes National Park and Preserve', 'CO',\n",
       "        42984, 37.73, -105.51],\n",
       "       ['GRSM', 'Great Smoky Mountains National Park', 'TN, NC', 521490,\n",
       "        35.68, -83.53],\n",
       "       ['GRTE', 'Grand Teton National Park', 'WY', 309995, 43.73, -110.8],\n",
       "       ['GUMO', 'Guadalupe Mountains National Park', 'TX', 86416, 31.92,\n",
       "        -104.87],\n",
       "       ['HALE', 'Haleakala National Park', 'HI', 29094, 20.72, -156.17],\n",
       "       ['HAVO', 'Hawaii Volcanoes National Park', 'HI', 323431, 19.38,\n",
       "        -155.2],\n",
       "       ['HOSP', 'Hot Springs National Park', 'AR', 5550, 34.51, -93.05],\n",
       "       ['ISRO', 'Isle Royale National Park', 'MI', 571790, 48.1, -88.55],\n",
       "       ['JOTR', 'Joshua Tree National Park', 'CA', 789745, 33.79, -115.9],\n",
       "       ['KATM', 'Katmai National Park and Preserve', 'AK', 3674530, 58.5,\n",
       "        -155.0],\n",
       "       ['KEFJ', 'Kenai Fjords National Park', 'AK', 669983, 59.92,\n",
       "        -149.65],\n",
       "       ['KOVA', 'Kobuk Valley National Park', 'AK', 1750717, 67.55,\n",
       "        -159.28],\n",
       "       ['LACL', 'Lake Clark National Park and Preserve', 'AK', 2619733,\n",
       "        60.97, -153.42],\n",
       "       ['LAVO', 'Lassen Volcanic National Park', 'CA', 106372, 40.49,\n",
       "        -121.51],\n",
       "       ['MACA', 'Mammoth Cave National Park', 'KY', 52830, 37.18, -86.1],\n",
       "       ['MEVE', 'Mesa Verde National Park', 'CO', 52122, 37.18, -108.49],\n",
       "       ['MORA', 'Mount Rainier National Park', 'WA', 235625, 46.85,\n",
       "        -121.75],\n",
       "       ['NOCA', 'North Cascades National Park', 'WA', 504781, 48.7,\n",
       "        -121.2],\n",
       "       ['OLYM', 'Olympic National Park', 'WA', 922651, 47.97, -123.5],\n",
       "       ['PEFO', 'Petrified Forest National Park', 'AZ', 93533, 35.07,\n",
       "        -109.78],\n",
       "       ['PINN', 'Pinnacles National Park', 'CA', 26606, 36.48, -121.16],\n",
       "       ['REDW', 'Redwood National Park', 'CA', 112512, 41.3, -124.0],\n",
       "       ['ROMO', 'Rocky Mountain National Park', 'CO', 265828, 40.4,\n",
       "        -105.58],\n",
       "       ['SAGU', 'Saguaro National Park', 'AZ', 91440, 32.25, -110.5],\n",
       "       ['SEKI', 'Sequoia and Kings Canyon National Parks', 'CA', 865952,\n",
       "        36.43, -118.68],\n",
       "       ['SHEN', 'Shenandoah National Park', 'VA', 199045, 38.53, -78.35],\n",
       "       ['THRO', 'Theodore Roosevelt National Park', 'ND', 70447, 46.97,\n",
       "        -103.45],\n",
       "       ['VOYA', 'Voyageurs National Park', 'MN', 218200, 48.5, -92.88],\n",
       "       ['WICA', 'Wind Cave National Park', 'SD', 28295, 43.57, -103.48],\n",
       "       ['WRST', 'Wrangell - St Elias National Park and Preserve', 'AK',\n",
       "        8323148, 61.0, -142.0],\n",
       "       ['YELL', 'Yellowstone National Park', 'WY, MT, ID', 2219791, 44.6,\n",
       "        -110.5],\n",
       "       ['YOSE', 'Yosemite National Park', 'CA', 761266, 37.83, -119.5],\n",
       "       ['ZION', 'Zion National Park', 'UT', 146598, 37.3, -113.05]],\n",
       "      dtype=object)"
      ]
     },
     "execution_count": 39,
     "metadata": {},
     "output_type": "execute_result"
    }
   ],
   "source": [
    "#outputs rows as arrays\n",
    "df1.values"
   ]
  },
  {
   "cell_type": "code",
   "execution_count": 3,
   "metadata": {},
   "outputs": [],
   "source": [
    "#if the file size is very large...it outputs file in chunks and retuens an iterable\n",
    "df1 = pd.read_csv('parks.csv', chunksize=5)"
   ]
  },
  {
   "cell_type": "code",
   "execution_count": 5,
   "metadata": {},
   "outputs": [
    {
     "name": "stdout",
     "output_type": "stream",
     "text": [
      "  Park Code                                   Park Name State   Acres   \n",
      "5      BLCA  Black Canyon of the Gunnison National Park    CO   32950  \\\n",
      "6      BRCA                  Bryce Canyon National Park    UT   35835   \n",
      "7      CANY                   Canyonlands National Park    UT  337598   \n",
      "8      CARE                  Capitol Reef National Park    UT  241904   \n",
      "9      CAVE              Carlsbad Caverns National Park    NM   46766   \n",
      "\n",
      "   Latitude  Longitude  \n",
      "5     38.57    -107.72  \n",
      "6     37.57    -112.18  \n",
      "7     38.20    -109.93  \n",
      "8     38.20    -111.17  \n",
      "9     32.17    -104.44  \n",
      "   Park Code                          Park Name State    Acres  Latitude   \n",
      "10      CHIS      Channel Islands National Park    CA   249561     34.01  \\\n",
      "11      CONG             Congaree National Park    SC    26546     33.78   \n",
      "12      CRLA          Crater Lake National Park    OR   183224     42.94   \n",
      "13      CUVA      Cuyahoga Valley National Park    OH    32950     41.24   \n",
      "14      DENA  Denali National Park and Preserve    AK  3372402     63.33   \n",
      "\n",
      "    Longitude  \n",
      "10    -119.42  \n",
      "11     -80.78  \n",
      "12    -122.10  \n",
      "13     -81.55  \n",
      "14    -150.50  \n",
      "   Park Code                                       Park Name   State    Acres   \n",
      "15      DEVA                      Death Valley National Park  CA, NV  4740912  \\\n",
      "16      DRTO                      Dry Tortugas National Park      FL    64701   \n",
      "17      EVER                        Everglades National Park      FL  1508538   \n",
      "18      GAAR  Gates Of The Arctic National Park and Preserve      AK  7523898   \n",
      "19      GLAC                           Glacier National Park      MT  1013572   \n",
      "\n",
      "    Latitude  Longitude  \n",
      "15     36.24    -116.82  \n",
      "16     24.63     -82.87  \n",
      "17     25.32     -80.93  \n",
      "18     67.78    -153.30  \n",
      "19     48.80    -114.00  \n",
      "   Park Code                                    Park Name   State    Acres   \n",
      "20      GLBA       Glacier Bay National Park and Preserve      AK  3224840  \\\n",
      "21      GRBA                    Great Basin National Park      NV    77180   \n",
      "22      GRCA                   Grand Canyon National Park      AZ  1217403   \n",
      "23      GRSA  Great Sand Dunes National Park and Preserve      CO    42984   \n",
      "24      GRSM          Great Smoky Mountains National Park  TN, NC   521490   \n",
      "\n",
      "    Latitude  Longitude  \n",
      "20     58.50    -137.00  \n",
      "21     38.98    -114.30  \n",
      "22     36.06    -112.14  \n",
      "23     37.73    -105.51  \n",
      "24     35.68     -83.53  \n",
      "   Park Code                          Park Name State   Acres  Latitude   \n",
      "25      GRTE          Grand Teton National Park    WY  309995     43.73  \\\n",
      "26      GUMO  Guadalupe Mountains National Park    TX   86416     31.92   \n",
      "27      HALE            Haleakala National Park    HI   29094     20.72   \n",
      "28      HAVO     Hawaii Volcanoes National Park    HI  323431     19.38   \n",
      "29      HOSP          Hot Springs National Park    AR    5550     34.51   \n",
      "\n",
      "    Longitude  \n",
      "25    -110.80  \n",
      "26    -104.87  \n",
      "27    -156.17  \n",
      "28    -155.20  \n",
      "29     -93.05  \n",
      "   Park Code                          Park Name State    Acres  Latitude   \n",
      "30      ISRO          Isle Royale National Park    MI   571790     48.10  \\\n",
      "31      JOTR          Joshua Tree National Park    CA   789745     33.79   \n",
      "32      KATM  Katmai National Park and Preserve    AK  3674530     58.50   \n",
      "33      KEFJ         Kenai Fjords National Park    AK   669983     59.92   \n",
      "34      KOVA         Kobuk Valley National Park    AK  1750717     67.55   \n",
      "\n",
      "    Longitude  \n",
      "30     -88.55  \n",
      "31    -115.90  \n",
      "32    -155.00  \n",
      "33    -149.65  \n",
      "34    -159.28  \n",
      "   Park Code                              Park Name State    Acres  Latitude   \n",
      "35      LACL  Lake Clark National Park and Preserve    AK  2619733     60.97  \\\n",
      "36      LAVO          Lassen Volcanic National Park    CA   106372     40.49   \n",
      "37      MACA             Mammoth Cave National Park    KY    52830     37.18   \n",
      "38      MEVE               Mesa Verde National Park    CO    52122     37.18   \n",
      "39      MORA            Mount Rainier National Park    WA   235625     46.85   \n",
      "\n",
      "    Longitude  \n",
      "35    -153.42  \n",
      "36    -121.51  \n",
      "37     -86.10  \n",
      "38    -108.49  \n",
      "39    -121.75  \n",
      "   Park Code                       Park Name State   Acres  Latitude   \n",
      "40      NOCA    North Cascades National Park    WA  504781     48.70  \\\n",
      "41      OLYM           Olympic National Park    WA  922651     47.97   \n",
      "42      PEFO  Petrified Forest National Park    AZ   93533     35.07   \n",
      "43      PINN         Pinnacles National Park    CA   26606     36.48   \n",
      "44      REDW           Redwood National Park    CA  112512     41.30   \n",
      "\n",
      "    Longitude  \n",
      "40    -121.20  \n",
      "41    -123.50  \n",
      "42    -109.78  \n",
      "43    -121.16  \n",
      "44    -124.00  \n",
      "   Park Code                                Park Name State   Acres  Latitude   \n",
      "45      ROMO             Rocky Mountain National Park    CO  265828     40.40  \\\n",
      "46      SAGU                    Saguaro National Park    AZ   91440     32.25   \n",
      "47      SEKI  Sequoia and Kings Canyon National Parks    CA  865952     36.43   \n",
      "48      SHEN                 Shenandoah National Park    VA  199045     38.53   \n",
      "49      THRO         Theodore Roosevelt National Park    ND   70447     46.97   \n",
      "\n",
      "    Longitude  \n",
      "45    -105.58  \n",
      "46    -110.50  \n",
      "47    -118.68  \n",
      "48     -78.35  \n",
      "49    -103.45  \n",
      "   Park Code                                       Park Name       State   \n",
      "50      VOYA                         Voyageurs National Park          MN  \\\n",
      "51      WICA                         Wind Cave National Park          SD   \n",
      "52      WRST  Wrangell - St Elias National Park and Preserve          AK   \n",
      "53      YELL                       Yellowstone National Park  WY, MT, ID   \n",
      "54      YOSE                          Yosemite National Park          CA   \n",
      "\n",
      "      Acres  Latitude  Longitude  \n",
      "50   218200     48.50     -92.88  \n",
      "51    28295     43.57    -103.48  \n",
      "52  8323148     61.00    -142.00  \n",
      "53  2219791     44.60    -110.50  \n",
      "54   761266     37.83    -119.50  \n",
      "   Park Code           Park Name State   Acres  Latitude  Longitude\n",
      "55      ZION  Zion National Park    UT  146598      37.3    -113.05\n"
     ]
    }
   ],
   "source": [
    "for chunk in df1:\n",
    "    print(chunk)"
   ]
  },
  {
   "cell_type": "code",
   "execution_count": 9,
   "metadata": {},
   "outputs": [
    {
     "ename": "TypeError",
     "evalue": "'TextFileReader' object is not subscriptable",
     "output_type": "error",
     "traceback": [
      "\u001b[1;31m---------------------------------------------------------------------------\u001b[0m",
      "\u001b[1;31mTypeError\u001b[0m                                 Traceback (most recent call last)",
      "Cell \u001b[1;32mIn[9], line 1\u001b[0m\n\u001b[1;32m----> 1\u001b[0m df2 \u001b[39m=\u001b[39m df1[\u001b[39m'\u001b[39;49m\u001b[39mAcres\u001b[39;49m\u001b[39m'\u001b[39;49m]\u001b[39m>\u001b[39m\u001b[39m45000\u001b[39m\n",
      "\u001b[1;31mTypeError\u001b[0m: 'TextFileReader' object is not subscriptable"
     ]
    }
   ],
   "source": [
    "df2 = df1['Acres']>45000"
   ]
  },
  {
   "attachments": {},
   "cell_type": "markdown",
   "metadata": {},
   "source": [
    "PLOTTING WITH PANDAS"
   ]
  },
  {
   "cell_type": "code",
   "execution_count": 10,
   "metadata": {},
   "outputs": [],
   "source": [
    "#to plot use .plot() method\n",
    "df1 = pd.read_csv('parks.csv')"
   ]
  },
  {
   "cell_type": "code",
   "execution_count": 11,
   "metadata": {},
   "outputs": [
    {
     "data": {
      "text/plain": [
       "Index(['Park Code', 'Park Name', 'State', 'Acres', 'Latitude', 'Longitude'], dtype='object')"
      ]
     },
     "execution_count": 11,
     "metadata": {},
     "output_type": "execute_result"
    }
   ],
   "source": [
    "df1.columns"
   ]
  },
  {
   "cell_type": "code",
   "execution_count": 18,
   "metadata": {},
   "outputs": [
    {
     "ename": "ImportError",
     "evalue": "matplotlib is required for plotting when the default backend \"matplotlib\" is selected.",
     "output_type": "error",
     "traceback": [
      "\u001b[1;31m---------------------------------------------------------------------------\u001b[0m",
      "\u001b[1;31mImportError\u001b[0m                               Traceback (most recent call last)",
      "Cell \u001b[1;32mIn[18], line 1\u001b[0m\n\u001b[1;32m----> 1\u001b[0m df1\u001b[39m.\u001b[39;49mplot(x\u001b[39m=\u001b[39;49m\u001b[39m'\u001b[39;49m\u001b[39mAcres\u001b[39;49m\u001b[39m'\u001b[39;49m, y\u001b[39m=\u001b[39;49m\u001b[39m'\u001b[39;49m\u001b[39mLatitude\u001b[39;49m\u001b[39m'\u001b[39;49m, kind\u001b[39m=\u001b[39;49m\u001b[39m'\u001b[39;49m\u001b[39mscatter\u001b[39;49m\u001b[39m'\u001b[39;49m)\n",
      "File \u001b[1;32mc:\\Python311\\Lib\\site-packages\\pandas\\plotting\\_core.py:895\u001b[0m, in \u001b[0;36mPlotAccessor.__call__\u001b[1;34m(self, *args, **kwargs)\u001b[0m\n\u001b[0;32m    894\u001b[0m \u001b[39mdef\u001b[39;00m \u001b[39m__call__\u001b[39m(\u001b[39mself\u001b[39m, \u001b[39m*\u001b[39margs, \u001b[39m*\u001b[39m\u001b[39m*\u001b[39mkwargs):\n\u001b[1;32m--> 895\u001b[0m     plot_backend \u001b[39m=\u001b[39m _get_plot_backend(kwargs\u001b[39m.\u001b[39;49mpop(\u001b[39m\"\u001b[39;49m\u001b[39mbackend\u001b[39;49m\u001b[39m\"\u001b[39;49m, \u001b[39mNone\u001b[39;49;00m))\n\u001b[0;32m    897\u001b[0m     x, y, kind, kwargs \u001b[39m=\u001b[39m \u001b[39mself\u001b[39m\u001b[39m.\u001b[39m_get_call_args(\n\u001b[0;32m    898\u001b[0m         plot_backend\u001b[39m.\u001b[39m\u001b[39m__name__\u001b[39m, \u001b[39mself\u001b[39m\u001b[39m.\u001b[39m_parent, args, kwargs\n\u001b[0;32m    899\u001b[0m     )\n\u001b[0;32m    901\u001b[0m     kind \u001b[39m=\u001b[39m \u001b[39mself\u001b[39m\u001b[39m.\u001b[39m_kind_aliases\u001b[39m.\u001b[39mget(kind, kind)\n",
      "File \u001b[1;32mc:\\Python311\\Lib\\site-packages\\pandas\\plotting\\_core.py:1862\u001b[0m, in \u001b[0;36m_get_plot_backend\u001b[1;34m(backend)\u001b[0m\n\u001b[0;32m   1859\u001b[0m \u001b[39mif\u001b[39;00m backend_str \u001b[39min\u001b[39;00m _backends:\n\u001b[0;32m   1860\u001b[0m     \u001b[39mreturn\u001b[39;00m _backends[backend_str]\n\u001b[1;32m-> 1862\u001b[0m module \u001b[39m=\u001b[39m _load_backend(backend_str)\n\u001b[0;32m   1863\u001b[0m _backends[backend_str] \u001b[39m=\u001b[39m module\n\u001b[0;32m   1864\u001b[0m \u001b[39mreturn\u001b[39;00m module\n",
      "File \u001b[1;32mc:\\Python311\\Lib\\site-packages\\pandas\\plotting\\_core.py:1794\u001b[0m, in \u001b[0;36m_load_backend\u001b[1;34m(backend)\u001b[0m\n\u001b[0;32m   1792\u001b[0m         module \u001b[39m=\u001b[39m importlib\u001b[39m.\u001b[39mimport_module(\u001b[39m\"\u001b[39m\u001b[39mpandas.plotting._matplotlib\u001b[39m\u001b[39m\"\u001b[39m)\n\u001b[0;32m   1793\u001b[0m     \u001b[39mexcept\u001b[39;00m \u001b[39mImportError\u001b[39;00m:\n\u001b[1;32m-> 1794\u001b[0m         \u001b[39mraise\u001b[39;00m \u001b[39mImportError\u001b[39;00m(\n\u001b[0;32m   1795\u001b[0m             \u001b[39m\"\u001b[39m\u001b[39mmatplotlib is required for plotting when the \u001b[39m\u001b[39m\"\u001b[39m\n\u001b[0;32m   1796\u001b[0m             \u001b[39m'\u001b[39m\u001b[39mdefault backend \u001b[39m\u001b[39m\"\u001b[39m\u001b[39mmatplotlib\u001b[39m\u001b[39m\"\u001b[39m\u001b[39m is selected.\u001b[39m\u001b[39m'\u001b[39m\n\u001b[0;32m   1797\u001b[0m         ) \u001b[39mfrom\u001b[39;00m \u001b[39mNone\u001b[39;00m\n\u001b[0;32m   1798\u001b[0m     \u001b[39mreturn\u001b[39;00m module\n\u001b[0;32m   1800\u001b[0m found_backend \u001b[39m=\u001b[39m \u001b[39mFalse\u001b[39;00m\n",
      "\u001b[1;31mImportError\u001b[0m: matplotlib is required for plotting when the default backend \"matplotlib\" is selected."
     ]
    }
   ],
   "source": [
    "df1.plot(x='Acres', y='Latitude', kind='scatter')"
   ]
  }
 ],
 "metadata": {
  "kernelspec": {
   "display_name": "Python 3",
   "language": "python",
   "name": "python3"
  },
  "language_info": {
   "codemirror_mode": {
    "name": "ipython",
    "version": 3
   },
   "file_extension": ".py",
   "mimetype": "text/x-python",
   "name": "python",
   "nbconvert_exporter": "python",
   "pygments_lexer": "ipython3",
   "version": "3.11.2"
  },
  "orig_nbformat": 4
 },
 "nbformat": 4,
 "nbformat_minor": 2
}
