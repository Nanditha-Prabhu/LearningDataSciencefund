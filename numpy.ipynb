{
 "cells": [
  {
   "attachments": {},
   "cell_type": "markdown",
   "metadata": {},
   "source": [
    "NUMPY"
   ]
  },
  {
   "cell_type": "code",
   "execution_count": 1,
   "metadata": {},
   "outputs": [],
   "source": [
    "#import numpy library\n",
    "import numpy as np"
   ]
  },
  {
   "cell_type": "code",
   "execution_count": 2,
   "metadata": {},
   "outputs": [],
   "source": [
    "#first numpy array\n",
    "#regular array: mention elements within square brackets\n",
    "first_numpy_array = np.array([45, 90, 74, 23]) #choose variable name such that they are self explanatory."
   ]
  },
  {
   "cell_type": "code",
   "execution_count": 3,
   "metadata": {},
   "outputs": [
    {
     "name": "stdout",
     "output_type": "stream",
     "text": [
      "[45 90 74 23]\n"
     ]
    }
   ],
   "source": [
    "#print array\n",
    "print (first_numpy_array)"
   ]
  },
  {
   "cell_type": "code",
   "execution_count": 4,
   "metadata": {},
   "outputs": [
    {
     "name": "stdout",
     "output_type": "stream",
     "text": [
      "[[0. 0.]\n",
      " [0. 0.]]\n"
     ]
    }
   ],
   "source": [
    "#array with zeros\n",
    "#zeros array: mention shape of element within parenthesis\n",
    "array_with_zeros = np.zeros((2, 2))\n",
    "print(array_with_zeros)\n"
   ]
  },
  {
   "cell_type": "code",
   "execution_count": 5,
   "metadata": {},
   "outputs": [
    {
     "data": {
      "text/plain": [
       "array([[1., 1., 1., 1.],\n",
       "       [1., 1., 1., 1.],\n",
       "       [1., 1., 1., 1.],\n",
       "       [1., 1., 1., 1.]])"
      ]
     },
     "execution_count": 5,
     "metadata": {},
     "output_type": "execute_result"
    }
   ],
   "source": [
    "#array with ones\n",
    "array_with_ones = np.ones((4, 4))\n",
    "array_with_ones #this will also show the array output"
   ]
  },
  {
   "cell_type": "code",
   "execution_count": 6,
   "metadata": {},
   "outputs": [
    {
     "data": {
      "text/plain": [
       "array([[0.00000000e+000, 0.00000000e+000, 0.00000000e+000,\n",
       "        0.00000000e+000],\n",
       "       [0.00000000e+000, 7.82599983e-321, 1.78019082e-306,\n",
       "        1.37959740e-306]])"
      ]
     },
     "execution_count": 6,
     "metadata": {},
     "output_type": "execute_result"
    }
   ],
   "source": [
    "#array with empty\n",
    "#note: this will contain random numbers until you set it manually\n",
    "array_with_empty = np.empty((2, 4)) \n",
    "array_with_empty"
   ]
  },
  {
   "cell_type": "code",
   "execution_count": 7,
   "metadata": {},
   "outputs": [
    {
     "data": {
      "text/plain": [
       "array([0, 1, 2, 3, 4, 5, 6, 7])"
      ]
     },
     "execution_count": 7,
     "metadata": {},
     "output_type": "execute_result"
    }
   ],
   "source": [
    "#array with arange\n",
    "arange_array = np.arange(8)\n",
    "arange_array"
   ]
  },
  {
   "cell_type": "code",
   "execution_count": 8,
   "metadata": {},
   "outputs": [
    {
     "data": {
      "text/plain": [
       "array([[0, 1],\n",
       "       [2, 3],\n",
       "       [4, 5],\n",
       "       [6, 7]])"
      ]
     },
     "execution_count": 8,
     "metadata": {},
     "output_type": "execute_result"
    }
   ],
   "source": [
    "#reshape method to change or create array\n",
    "arange_array.reshape(4, -1) # 8 = 2*4, cannot give random shape\n",
    "#if you give -1 as parameter in reshape it will fill the position of -1 operator into valid size if possible along with another parameter else error"
   ]
  },
  {
   "cell_type": "code",
   "execution_count": 9,
   "metadata": {},
   "outputs": [
    {
     "data": {
      "text/plain": [
       "array([ 5.        ,  8.33333333, 11.66666667, 15.        , 18.33333333,\n",
       "       21.66666667, 25.        ])"
      ]
     },
     "execution_count": 9,
     "metadata": {},
     "output_type": "execute_result"
    }
   ],
   "source": [
    "#linspace for linearly(equal) spaced data elements\n",
    "linspace_array = np.linspace(5, 25, 7) #syntax: np.linspace(firstEle, lastEle, totalEquidistEle)\n",
    "linspace_array"
   ]
  },
  {
   "attachments": {},
   "cell_type": "markdown",
   "metadata": {},
   "source": [
    "ARITHMETIC OPERATIONS"
   ]
  },
  {
   "cell_type": "code",
   "execution_count": 10,
   "metadata": {},
   "outputs": [],
   "source": [
    "a = np.array([[5, 3, 1], [2, 6, 8]])\n",
    "b = np.array([3, 7, 2])"
   ]
  },
  {
   "cell_type": "code",
   "execution_count": 11,
   "metadata": {},
   "outputs": [
    {
     "data": {
      "text/plain": [
       "array([[ 8, 10,  3],\n",
       "       [ 5, 13, 10]])"
      ]
     },
     "execution_count": 11,
     "metadata": {},
     "output_type": "execute_result"
    }
   ],
   "source": [
    "#addition\n",
    "np.add(a, b)"
   ]
  },
  {
   "cell_type": "code",
   "execution_count": 12,
   "metadata": {},
   "outputs": [
    {
     "data": {
      "text/plain": [
       "array([[-2,  4,  1],\n",
       "       [ 1,  1, -6]])"
      ]
     },
     "execution_count": 12,
     "metadata": {},
     "output_type": "execute_result"
    }
   ],
   "source": [
    "#subtract\n",
    "np.subtract(b, a)"
   ]
  },
  {
   "cell_type": "code",
   "execution_count": 13,
   "metadata": {},
   "outputs": [
    {
     "data": {
      "text/plain": [
       "array([[15, 21,  2],\n",
       "       [ 6, 42, 16]])"
      ]
     },
     "execution_count": 13,
     "metadata": {},
     "output_type": "execute_result"
    }
   ],
   "source": [
    "#multiply\n",
    "np.multiply(a, b)"
   ]
  },
  {
   "cell_type": "code",
   "execution_count": 14,
   "metadata": {},
   "outputs": [
    {
     "data": {
      "text/plain": [
       "array([[1.66666667, 0.42857143, 0.5       ],\n",
       "       [0.66666667, 0.85714286, 4.        ]])"
      ]
     },
     "execution_count": 14,
     "metadata": {},
     "output_type": "execute_result"
    }
   ],
   "source": [
    "#divide\n",
    "np.divide(a, b)"
   ]
  },
  {
   "cell_type": "code",
   "execution_count": 15,
   "metadata": {},
   "outputs": [
    {
     "data": {
      "text/plain": [
       "array([[125,  27,   1],\n",
       "       [  8, 216, 512]], dtype=int32)"
      ]
     },
     "execution_count": 15,
     "metadata": {},
     "output_type": "execute_result"
    }
   ],
   "source": [
    "#power\n",
    "np.power(a, 3) #it can also be matrix to matrix"
   ]
  },
  {
   "attachments": {},
   "cell_type": "markdown",
   "metadata": {},
   "source": [
    "conditional statements"
   ]
  },
  {
   "cell_type": "code",
   "execution_count": 16,
   "metadata": {},
   "outputs": [],
   "source": [
    "arr = np.array([7, 0, 3, 4, 9, 5, 8, 2])"
   ]
  },
  {
   "cell_type": "code",
   "execution_count": 18,
   "metadata": {},
   "outputs": [
    {
     "data": {
      "text/plain": [
       "array(['odd', 'even', 'odd', 'even', 'odd', 'odd', 'even', 'even'],\n",
       "      dtype='<U4')"
      ]
     },
     "execution_count": 18,
     "metadata": {},
     "output_type": "execute_result"
    }
   ],
   "source": [
    "#where \n",
    "np.where(arr%2 == 0, \"even\", \"odd\") #(condition, if statement, else statement)"
   ]
  },
  {
   "cell_type": "code",
   "execution_count": 19,
   "metadata": {},
   "outputs": [
    {
     "data": {
      "text/plain": [
       "array(['123', '0', '9', '16', '27', '123', '64', '4'], dtype='<U11')"
      ]
     },
     "execution_count": 19,
     "metadata": {},
     "output_type": "execute_result"
    }
   ],
   "source": [
    "#select\n",
    "conditionlist = [arr%3==0, arr%2==0]\n",
    "choicelist = [arr*3, arr**2]\n",
    "np.select(conditionlist, choicelist, default=\"123\")"
   ]
  },
  {
   "cell_type": "code",
   "execution_count": 10,
   "metadata": {},
   "outputs": [],
   "source": [
    "#mathematical and statistical functions\n",
    "arr1 = np.array([[2, 3, 6],\n",
    "                 [7, 0, 9],\n",
    "                 [8, 1, 5]])"
   ]
  },
  {
   "cell_type": "code",
   "execution_count": 12,
   "metadata": {},
   "outputs": [
    {
     "data": {
      "text/plain": [
       "0"
      ]
     },
     "execution_count": 12,
     "metadata": {},
     "output_type": "execute_result"
    }
   ],
   "source": [
    "#finds minimum in entire array\n",
    "np.min(arr1) "
   ]
  },
  {
   "cell_type": "code",
   "execution_count": 13,
   "metadata": {},
   "outputs": [
    {
     "data": {
      "text/plain": [
       "array([2, 0, 5])"
      ]
     },
     "execution_count": 13,
     "metadata": {},
     "output_type": "execute_result"
    }
   ],
   "source": [
    "#finds minimum from vertical columns\n",
    "np.amin(arr1, axis=0)"
   ]
  },
  {
   "cell_type": "code",
   "execution_count": 14,
   "metadata": {},
   "outputs": [
    {
     "data": {
      "text/plain": [
       "array([2, 0, 1])"
      ]
     },
     "execution_count": 14,
     "metadata": {},
     "output_type": "execute_result"
    }
   ],
   "source": [
    "#finds minimum from horizontal cols\n",
    "np.amin(arr1, axis=1)"
   ]
  },
  {
   "cell_type": "code",
   "execution_count": 15,
   "metadata": {},
   "outputs": [
    {
     "name": "stdout",
     "output_type": "stream",
     "text": [
      "9\n",
      "[8 3 9]\n",
      "[6 9 8]\n"
     ]
    }
   ],
   "source": [
    "#similarly for maximum\n",
    "print(np.max(arr1))\n",
    "print(np.amax(arr1, axis=0))\n",
    "print(np.amax(arr1, axis=1))"
   ]
  },
  {
   "cell_type": "code",
   "execution_count": 18,
   "metadata": {},
   "outputs": [
    {
     "name": "stdout",
     "output_type": "stream",
     "text": [
      "4.555555555555555\n",
      "5.0\n",
      "3.02254900194121\n",
      "9.135802469135804\n",
      "2.0\n"
     ]
    }
   ],
   "source": [
    "print (np.mean(arr1))\n",
    "print (np.median(arr1))\n",
    "print (np.std(arr1)) #std deviation\n",
    "print (np.var(arr1)) #variance\n",
    "print(np.percentile(arr1, 25)) #quartile deviation with values between 1 and 100"
   ]
  },
  {
   "cell_type": "code",
   "execution_count": 20,
   "metadata": {},
   "outputs": [
    {
     "data": {
      "text/plain": [
       "array([0.        , 0.5       , 0.70710678, 0.8660254 , 1.        ])"
      ]
     },
     "execution_count": 20,
     "metadata": {},
     "output_type": "execute_result"
    }
   ],
   "source": [
    "#trigonometric functions\n",
    "array_degree_angles = np.array([0, 30, 45, 60, 90])\n",
    "np.sin(array_degree_angles * np.pi/180) #since sine fn takes input in radians."
   ]
  },
  {
   "cell_type": "code",
   "execution_count": 23,
   "metadata": {},
   "outputs": [
    {
     "name": "stdout",
     "output_type": "stream",
     "text": [
      "[1.00000000e+00 8.66025404e-01 7.07106781e-01 5.00000000e-01\n",
      " 6.12323400e-17]\n",
      "[0.00000000e+00 5.77350269e-01 1.00000000e+00 1.73205081e+00\n",
      " 1.63312394e+16]\n",
      "[0.         0.55106958 0.90333911        nan        nan]\n",
      "[1.57079633 1.01972674 0.66745722        nan        nan]\n",
      "[0.         0.48234791 0.66577375 0.80844879 1.00388482]\n"
     ]
    },
    {
     "name": "stderr",
     "output_type": "stream",
     "text": [
      "C:\\Users\\NANDITHAPRABU\\AppData\\Local\\Temp\\ipykernel_20436\\1730064207.py:4: RuntimeWarning: invalid value encountered in arcsin\n",
      "  print(np.arcsin(array_degree_angles * np.pi/180))\n",
      "C:\\Users\\NANDITHAPRABU\\AppData\\Local\\Temp\\ipykernel_20436\\1730064207.py:5: RuntimeWarning: invalid value encountered in arccos\n",
      "  print(np.arccos(array_degree_angles * np.pi/180))\n"
     ]
    }
   ],
   "source": [
    "print(np.cos(array_degree_angles * np.pi/180))\n",
    "print(np.tan(array_degree_angles * np.pi/180))\n",
    "#inverse trig with arc prefix\n",
    "print(np.arcsin(array_degree_angles * np.pi/180))\n",
    "print(np.arccos(array_degree_angles * np.pi/180))\n",
    "print(np.arctan(array_degree_angles * np.pi/180))"
   ]
  },
  {
   "cell_type": "code",
   "execution_count": 25,
   "metadata": {},
   "outputs": [
    {
     "name": "stdout",
     "output_type": "stream",
     "text": [
      "[-7. -5. -1.  0.  2.  9.]\n",
      "[-6. -4. -0.  1.  3. 10.]\n"
     ]
    }
   ],
   "source": [
    "#additional floor and ceil functions\n",
    "fcarray = np.array([-6.48, -4.3, -0.8, 0.66, 2.82, 9.31])\n",
    "print(np.floor(fcarray))\n",
    "print(np.ceil(fcarray))"
   ]
  },
  {
   "attachments": {},
   "cell_type": "markdown",
   "metadata": {},
   "source": [
    "Indexing and slicing"
   ]
  },
  {
   "cell_type": "code",
   "execution_count": 26,
   "metadata": {},
   "outputs": [
    {
     "name": "stdout",
     "output_type": "stream",
     "text": [
      "9\n",
      "0\n",
      "11\n"
     ]
    }
   ],
   "source": [
    "#indexing\n",
    "arr1d = np.array([2, 4, 9, 1])\n",
    "arr2d = np.array([[7, 3, 1], \n",
    "                  [4, 0, 6]])\n",
    "arr3d = np.array([[[1, 2, 3], \n",
    "                   [4, 5, 6]], \n",
    "                  [[7, 8, 9], \n",
    "                   [10, 11, 12]]])\n",
    "print(arr1d[2])\n",
    "print(arr2d[1, 1])\n",
    "print(arr3d[1, 1, 1])"
   ]
  },
  {
   "cell_type": "code",
   "execution_count": 48,
   "metadata": {},
   "outputs": [
    {
     "name": "stdout",
     "output_type": "stream",
     "text": [
      "[4 9 1]\n",
      "[array([4, 0])]\n",
      "[array([[7, 3, 1]])]\n",
      "[array([3])]\n",
      "[[[10 11 12]]]\n"
     ]
    }
   ],
   "source": [
    "#slicing\n",
    "#for nd array there will be n parameters\n",
    "#each parameter can be an index or slice opr\n",
    "print(arr1d[1:])\n",
    "print([arr2d[1, 0:2]])\n",
    "print([arr2d[0:1:3]])\n",
    "print([arr2d[0:1, 1]]) \n",
    "print(arr3d[1:, 1:, 0:])"
   ]
  }
 ],
 "metadata": {
  "kernelspec": {
   "display_name": "Python 3",
   "language": "python",
   "name": "python3"
  },
  "language_info": {
   "codemirror_mode": {
    "name": "ipython",
    "version": 3
   },
   "file_extension": ".py",
   "mimetype": "text/x-python",
   "name": "python",
   "nbconvert_exporter": "python",
   "pygments_lexer": "ipython3",
   "version": "3.11.2"
  },
  "orig_nbformat": 4
 },
 "nbformat": 4,
 "nbformat_minor": 2
}
